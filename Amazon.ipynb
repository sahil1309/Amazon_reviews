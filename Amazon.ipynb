{
 "cells": [
  {
   "cell_type": "markdown",
   "metadata": {},
   "source": [
    "#   -------- THIS IS A WEB SCRAPING CODE ON AMAZON PRODUCTS -----------"
   ]
  },
  {
   "cell_type": "code",
   "execution_count": 1,
   "metadata": {},
   "outputs": [
    {
     "name": "stdout",
     "output_type": "stream",
     "text": [
      "Requirement already satisfied: bs4 in c:\\users\\sahil\\appdata\\local\\programs\\python\\python38\\lib\\site-packages (0.0.1)\n",
      "Requirement already satisfied: beautifulsoup4 in c:\\users\\sahil\\appdata\\local\\programs\\python\\python38\\lib\\site-packages (from bs4) (4.11.1)\n",
      "Requirement already satisfied: soupsieve>1.2 in c:\\users\\sahil\\appdata\\local\\programs\\python\\python38\\lib\\site-packages (from beautifulsoup4->bs4) (2.3.2.post1)\n",
      "Note: you may need to restart the kernel to use updated packages.\n"
     ]
    },
    {
     "name": "stderr",
     "output_type": "stream",
     "text": [
      "WARNING: You are using pip version 20.2.3; however, version 22.3.1 is available.\n",
      "You should consider upgrading via the 'c:\\users\\sahil\\appdata\\local\\programs\\python\\python38\\python.exe -m pip install --upgrade pip' command.\n"
     ]
    }
   ],
   "source": [
    "pip install bs4"
   ]
  },
  {
   "cell_type": "code",
   "execution_count": 2,
   "metadata": {},
   "outputs": [
    {
     "name": "stdout",
     "output_type": "stream",
     "text": [
      "Note: you may need to restart the kernel to use updated packages.\n"
     ]
    },
    {
     "name": "stderr",
     "output_type": "stream",
     "text": [
      "WARNING: You are using pip version 20.2.3; however, version 22.3.1 is available.\n",
      "You should consider upgrading via the 'c:\\users\\sahil\\appdata\\local\\programs\\python\\python38\\python.exe -m pip install --upgrade pip' command.\n"
     ]
    },
    {
     "name": "stdout",
     "output_type": "stream",
     "text": [
      "Requirement already satisfied: requests in c:\\users\\sahil\\appdata\\local\\programs\\python\\python38\\lib\\site-packages (2.28.1)\n",
      "Requirement already satisfied: urllib3<1.27,>=1.21.1 in c:\\users\\sahil\\appdata\\local\\programs\\python\\python38\\lib\\site-packages (from requests) (1.26.12)\n",
      "Requirement already satisfied: charset-normalizer<3,>=2 in c:\\users\\sahil\\appdata\\local\\programs\\python\\python38\\lib\\site-packages (from requests) (2.1.1)\n",
      "Requirement already satisfied: certifi>=2017.4.17 in c:\\users\\sahil\\appdata\\local\\programs\\python\\python38\\lib\\site-packages (from requests) (2022.9.24)\n",
      "Requirement already satisfied: idna<4,>=2.5 in c:\\users\\sahil\\appdata\\local\\programs\\python\\python38\\lib\\site-packages (from requests) (3.4)\n"
     ]
    }
   ],
   "source": [
    "pip install requests"
   ]
  },
  {
   "cell_type": "code",
   "execution_count": 3,
   "metadata": {},
   "outputs": [],
   "source": [
    "import pandas as pd\n",
    "import requests\n",
    "from bs4 import BeautifulSoup\n",
    "from urllib.parse import urlencode"
   ]
  },
  {
   "cell_type": "markdown",
   "metadata": {},
   "source": [
    "## Fetching specific links of customer reviews"
   ]
  },
  {
   "cell_type": "code",
   "execution_count": 4,
   "metadata": {},
   "outputs": [],
   "source": [
    "list_of_urls=[\"https://www.amazon.in/gp/customer-reviews/R290GPGTVTVQ6I/ref=cm_cr_dp_d_rvw_ttl?ie=UTF8&ASIN=B0B4DMBH5T\",\n",
    "              \"https://www.amazon.in/gp/customer-reviews/R1NLH5KFZKCMC3/ref=cm_cr_dp_d_rvw_ttl?ie=UTF8&ASIN=B0B4DMBH5T\",\n",
    "              \"https://www.amazon.in/gp/customer-reviews/RA143J6NLKZ9N/ref=cm_cr_dp_d_rvw_ttl?ie=UTF8&ASIN=B0B4DMBH5T\",\n",
    "              \"https://www.amazon.in/gp/customer-reviews/R3JY0WSLR58RSY/ref=cm_cr_dp_d_rvw_ttl?ie=UTF8&ASIN=B0B4DMBH5T\",\n",
    "              \"https://www.amazon.in/gp/customer-reviews/R1ON9C3OMQSHW1/ref=cm_cr_dp_d_rvw_ttl?ie=UTF8&ASIN=B0B4DMBH5T\",\n",
    "              \"https://www.amazon.in/gp/customer-reviews/R1ON9C3OMQSHW1/ref=cm_cr_dp_d_rvw_ttl?ie=UTF8&ASIN=B0B4DMBH5T\",\n",
    "              \"https://www.amazon.in/gp/customer-reviews/R3DD10C4ANJP7L/ref=cm_cr_dp_d_rvw_ttl?ie=UTF8&ASIN=B0B4DMBH5T\",\n",
    "              \"https://www.amazon.in/gp/customer-reviews/R2DL41560SS7H8/ref=cm_cr_getr_d_rvw_ttl?ie=UTF8&ASIN=B0B4DMBH5T\"]"
   ]
  },
  {
   "cell_type": "markdown",
   "metadata": {},
   "source": [
    "## Creating a dataset with reviewer name and review text"
   ]
  },
  {
   "cell_type": "code",
   "execution_count": 5,
   "metadata": {},
   "outputs": [],
   "source": [
    "Headers=({'User-Agent':'Mozilla/5.0 (Windows NT 10.0; Win64; x64) AppleWebKit/537.36 (KHTML, like Gecko) Chrome/108.0.0.0 Safari/537.36',\n",
    "           'Accept-Language': 'en-US, en;q=0.5'})"
   ]
  },
  {
   "cell_type": "code",
   "execution_count": 6,
   "metadata": {},
   "outputs": [],
   "source": [
    "names=[]\n",
    "reviews=[]\n",
    "ratings=[]\n",
    "review_date=[]\n",
    "public_opinion=[]\n",
    "review_text=\"\"\n",
    "\n",
    "for url in list_of_urls:\n",
    "    webpage=requests.get(url,headers=Headers)\n",
    "    soup=BeautifulSoup(webpage.text,\"html.parser\")\n",
    "    \n",
    "    for item in soup.find_all(\"span\", class_=\"a-profile-name\"):\n",
    "      review_text = review_text + item.get_text()\n",
    "      names.append(review_text)\n",
    "      review_text = \"\"  \n",
    "    \n",
    "    for item in soup.find_all(\"span\", {\"data-hook\": \"review-body\"}):\n",
    "      review_text = review_text + item.get_text()\n",
    "      reviews.append(review_text)\n",
    "      review_text = \"\"\n",
    "    \n",
    "    for item in soup.find_all(\"i\", {\"data-hook\": \"review-star-rating\"}):\n",
    "      review_text = review_text + item.get_text()\n",
    "      ratings.append(review_text)\n",
    "      review_text = \"\"\n",
    "    \n",
    "    for item in soup.find_all(\"span\", {\"data-hook\": \"review-date\"}):\n",
    "      review_text = review_text + item.get_text()\n",
    "      review_date.append(review_text)\n",
    "      review_text = \"\"\n",
    "    \n",
    "    for item in soup.find_all(\"span\", {\"data-hook\": \"helpful-vote-statement\"}):\n",
    "      review_text = review_text + item.get_text()\n",
    "      public_opinion.append(review_text)\n",
    "      review_text = \"\""
   ]
  },
  {
   "cell_type": "code",
   "execution_count": 7,
   "metadata": {},
   "outputs": [],
   "source": [
    "amazon_data=pd.DataFrame(columns=['Reviewer_name','Review','Rating','Review_date','No. of votes'])"
   ]
  },
  {
   "cell_type": "code",
   "execution_count": 8,
   "metadata": {},
   "outputs": [
    {
     "name": "stderr",
     "output_type": "stream",
     "text": [
      "C:\\Users\\sahil\\AppData\\Local\\Temp\\ipykernel_3940\\3687758823.py:9: FutureWarning: The frame.append method is deprecated and will be removed from pandas in a future version. Use pandas.concat instead.\n",
      "  amazon_data=amazon_data.append({'Reviewer_name':n,'Review':r,'Ratings':rate,'Review_date':date,'No.of votes':op},ignore_index=True)\n",
      "C:\\Users\\sahil\\AppData\\Local\\Temp\\ipykernel_3940\\3687758823.py:9: FutureWarning: The frame.append method is deprecated and will be removed from pandas in a future version. Use pandas.concat instead.\n",
      "  amazon_data=amazon_data.append({'Reviewer_name':n,'Review':r,'Ratings':rate,'Review_date':date,'No.of votes':op},ignore_index=True)\n",
      "C:\\Users\\sahil\\AppData\\Local\\Temp\\ipykernel_3940\\3687758823.py:9: FutureWarning: The frame.append method is deprecated and will be removed from pandas in a future version. Use pandas.concat instead.\n",
      "  amazon_data=amazon_data.append({'Reviewer_name':n,'Review':r,'Ratings':rate,'Review_date':date,'No.of votes':op},ignore_index=True)\n",
      "C:\\Users\\sahil\\AppData\\Local\\Temp\\ipykernel_3940\\3687758823.py:9: FutureWarning: The frame.append method is deprecated and will be removed from pandas in a future version. Use pandas.concat instead.\n",
      "  amazon_data=amazon_data.append({'Reviewer_name':n,'Review':r,'Ratings':rate,'Review_date':date,'No.of votes':op},ignore_index=True)\n",
      "C:\\Users\\sahil\\AppData\\Local\\Temp\\ipykernel_3940\\3687758823.py:9: FutureWarning: The frame.append method is deprecated and will be removed from pandas in a future version. Use pandas.concat instead.\n",
      "  amazon_data=amazon_data.append({'Reviewer_name':n,'Review':r,'Ratings':rate,'Review_date':date,'No.of votes':op},ignore_index=True)\n",
      "C:\\Users\\sahil\\AppData\\Local\\Temp\\ipykernel_3940\\3687758823.py:9: FutureWarning: The frame.append method is deprecated and will be removed from pandas in a future version. Use pandas.concat instead.\n",
      "  amazon_data=amazon_data.append({'Reviewer_name':n,'Review':r,'Ratings':rate,'Review_date':date,'No.of votes':op},ignore_index=True)\n",
      "C:\\Users\\sahil\\AppData\\Local\\Temp\\ipykernel_3940\\3687758823.py:9: FutureWarning: The frame.append method is deprecated and will be removed from pandas in a future version. Use pandas.concat instead.\n",
      "  amazon_data=amazon_data.append({'Reviewer_name':n,'Review':r,'Ratings':rate,'Review_date':date,'No.of votes':op},ignore_index=True)\n"
     ]
    }
   ],
   "source": [
    "for i in range(7):\n",
    "    n=names[i]\n",
    "    r=reviews[i]\n",
    "    r=r.replace(\"\\n\",\"\")\n",
    "    rate=ratings[i]\n",
    "    date=review_date[i]\n",
    "    op=public_opinion[i]\n",
    "    \n",
    "    amazon_data=amazon_data.append({'Reviewer_name':n,'Review':r,'Ratings':rate,'Review_date':date,'No.of votes':op},ignore_index=True)"
   ]
  },
  {
   "cell_type": "code",
   "execution_count": 9,
   "metadata": {},
   "outputs": [
    {
     "data": {
      "text/html": [
       "<div>\n",
       "<style scoped>\n",
       "    .dataframe tbody tr th:only-of-type {\n",
       "        vertical-align: middle;\n",
       "    }\n",
       "\n",
       "    .dataframe tbody tr th {\n",
       "        vertical-align: top;\n",
       "    }\n",
       "\n",
       "    .dataframe thead th {\n",
       "        text-align: right;\n",
       "    }\n",
       "</style>\n",
       "<table border=\"1\" class=\"dataframe\">\n",
       "  <thead>\n",
       "    <tr style=\"text-align: right;\">\n",
       "      <th></th>\n",
       "      <th>Reviewer_name</th>\n",
       "      <th>Review</th>\n",
       "      <th>Review_date</th>\n",
       "      <th>Ratings</th>\n",
       "      <th>No.of votes</th>\n",
       "    </tr>\n",
       "  </thead>\n",
       "  <tbody>\n",
       "    <tr>\n",
       "      <th>0</th>\n",
       "      <td>Remigio Rodrigues</td>\n",
       "      <td>Writing this review after 3 months of usage.PR...</td>\n",
       "      <td>Reviewed in India 🇮🇳 on 4 December 2022</td>\n",
       "      <td>4.0 out of 5 stars</td>\n",
       "      <td>13 people found this helpful</td>\n",
       "    </tr>\n",
       "    <tr>\n",
       "      <th>1</th>\n",
       "      <td>Ashutosh Singh</td>\n",
       "      <td>I am writing this review after 1 week of usage...</td>\n",
       "      <td>Reviewed in India 🇮🇳 on 27 January 2022</td>\n",
       "      <td>5.0 out of 5 stars</td>\n",
       "      <td>57 people found this helpful</td>\n",
       "    </tr>\n",
       "    <tr>\n",
       "      <th>2</th>\n",
       "      <td>Janhvi S.</td>\n",
       "      <td>Fingerprint reader is a bit slow and the batte...</td>\n",
       "      <td>Reviewed in India 🇮🇳 on 7 December 2022</td>\n",
       "      <td>4.0 out of 5 stars</td>\n",
       "      <td>11 people found this helpful</td>\n",
       "    </tr>\n",
       "    <tr>\n",
       "      <th>3</th>\n",
       "      <td>Nazir Ahmad</td>\n",
       "      <td>Handy phone easy to use but wifi calling not s...</td>\n",
       "      <td>Reviewed in India 🇮🇳 on 23 November 2022</td>\n",
       "      <td>4.0 out of 5 stars</td>\n",
       "      <td>2 people found this helpful</td>\n",
       "    </tr>\n",
       "    <tr>\n",
       "      <th>4</th>\n",
       "      <td>Tinoj Chacko</td>\n",
       "      <td>Very very poor battery back up.The phone is go...</td>\n",
       "      <td>Reviewed in India on 2 November 2022</td>\n",
       "      <td>3.0 out of 5 stars</td>\n",
       "      <td>6 people found this helpful</td>\n",
       "    </tr>\n",
       "    <tr>\n",
       "      <th>5</th>\n",
       "      <td>Tinoj Chacko</td>\n",
       "      <td>Very very poor battery back up.The phone is go...</td>\n",
       "      <td>Reviewed in India on 2 November 2022</td>\n",
       "      <td>3.0 out of 5 stars</td>\n",
       "      <td>6 people found this helpful</td>\n",
       "    </tr>\n",
       "    <tr>\n",
       "      <th>6</th>\n",
       "      <td>Virendra</td>\n",
       "      <td>Amazing Android 13 experienceBattery 🔋 life is...</td>\n",
       "      <td>Reviewed in India 🇮🇳 on 20 December 2022</td>\n",
       "      <td>5.0 out of 5 stars</td>\n",
       "      <td>4 people found this helpful</td>\n",
       "    </tr>\n",
       "  </tbody>\n",
       "</table>\n",
       "</div>"
      ],
      "text/plain": [
       "       Reviewer_name                                             Review  \\\n",
       "0  Remigio Rodrigues  Writing this review after 3 months of usage.PR...   \n",
       "1     Ashutosh Singh  I am writing this review after 1 week of usage...   \n",
       "2          Janhvi S.  Fingerprint reader is a bit slow and the batte...   \n",
       "3        Nazir Ahmad  Handy phone easy to use but wifi calling not s...   \n",
       "4       Tinoj Chacko  Very very poor battery back up.The phone is go...   \n",
       "5       Tinoj Chacko  Very very poor battery back up.The phone is go...   \n",
       "6           Virendra  Amazing Android 13 experienceBattery 🔋 life is...   \n",
       "\n",
       "                                Review_date             Ratings  \\\n",
       "0   Reviewed in India 🇮🇳 on 4 December 2022  4.0 out of 5 stars   \n",
       "1   Reviewed in India 🇮🇳 on 27 January 2022  5.0 out of 5 stars   \n",
       "2   Reviewed in India 🇮🇳 on 7 December 2022  4.0 out of 5 stars   \n",
       "3  Reviewed in India 🇮🇳 on 23 November 2022  4.0 out of 5 stars   \n",
       "4      Reviewed in India on 2 November 2022  3.0 out of 5 stars   \n",
       "5      Reviewed in India on 2 November 2022  3.0 out of 5 stars   \n",
       "6  Reviewed in India 🇮🇳 on 20 December 2022  5.0 out of 5 stars   \n",
       "\n",
       "                    No.of votes  \n",
       "0  13 people found this helpful  \n",
       "1  57 people found this helpful  \n",
       "2  11 people found this helpful  \n",
       "3   2 people found this helpful  \n",
       "4   6 people found this helpful  \n",
       "5   6 people found this helpful  \n",
       "6   4 people found this helpful  "
      ]
     },
     "execution_count": 9,
     "metadata": {},
     "output_type": "execute_result"
    }
   ],
   "source": [
    "amazon_data.dropna(how=\"all\",axis=1,inplace=True)\n",
    "amazon_data"
   ]
  }
 ],
 "metadata": {
  "kernelspec": {
   "display_name": "Python 3 (ipykernel)",
   "language": "python",
   "name": "python3"
  },
  "language_info": {
   "codemirror_mode": {
    "name": "ipython",
    "version": 3
   },
   "file_extension": ".py",
   "mimetype": "text/x-python",
   "name": "python",
   "nbconvert_exporter": "python",
   "pygments_lexer": "ipython3",
   "version": "3.8.9"
  }
 },
 "nbformat": 4,
 "nbformat_minor": 2
}
